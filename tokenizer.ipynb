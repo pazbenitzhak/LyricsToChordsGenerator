{
 "cells": [
  {
   "cell_type": "code",
   "execution_count": 105,
   "metadata": {},
   "outputs": [],
   "source": [
    "import chordparser\n",
    "from dataclasses import dataclass\n",
    "from enum import Enum\n",
    "import torch.nn as nn\n",
    "from typing import List, Tuple"
   ]
  },
  {
   "cell_type": "code",
   "execution_count": 106,
   "metadata": {},
   "outputs": [
    {
     "name": "stdout",
     "output_type": "stream",
     "text": [
      "C9\n",
      "root=['__class__', '__delattr__', '__dict__', '__dir__', '__doc__', '__eq__', '__format__', '__ge__', '__getattribute__', '__gt__', '__hash__', '__init__', '__init_subclass__', '__le__', '__lt__', '__module__', '__ne__', '__new__', '__reduce__', '__reduce_ex__', '__repr__', '__setattr__', '__sizeof__', '__str__', '__subclasshook__', '__weakref__', '_doubleflat', '_doublesharp', '_flat', '_flat_tuple', '_note_values', '_notes_tuple', '_sharp', '_sharp_tuple', '_symbol_signs', '_symbols', 'accidental', 'letter', 'letter_value', 'num_value', 'shift_l', 'shift_s', 'symbol', 'symbol_value', 'transpose', 'transpose_simple', 'value']\n"
     ]
    }
   ],
   "source": [
    "parser = chordparser.Parser()\n",
    "c1 = parser.create_chord('C9')\n",
    "print(c1)\n",
    "print(f'root={dir(c1.root)}')"
   ]
  },
  {
   "cell_type": "code",
   "execution_count": 107,
   "metadata": {},
   "outputs": [],
   "source": [
    "class NoteIndex(Enum):\n",
    "    C = 0\n",
    "    Csharp = 1\n",
    "    D = 2\n",
    "    Dsharp = 3\n",
    "    E = 4\n",
    "    F = 5\n",
    "    Fsharp = 6\n",
    "    G = 7\n",
    "    Gsharp = 8\n",
    "    A = 9\n",
    "    Asharp = 10\n",
    "    B = 11\n",
    "    \n",
    "    def to_chord_format(self):\n",
    "        return self.name.replace('sharp', '#')\n",
    "\n",
    "\n",
    "QUALITIES_DISPLAY_NAMES = {0: '', 1: 'm', 2: 'dim', 3: 'aug', 4: 'sus4', 5: 'sus2', 6: '5'}\n",
    "class ChordQuality(Enum):\n",
    "    major = 0\n",
    "    dominant = 0\n",
    "    minor = 1\n",
    "    diminished = 2\n",
    "    augmented = 3\n",
    "    sus4 = 4\n",
    "    sus2 = 5\n",
    "    power = 6\n",
    "    \n",
    "    def to_chord_format(self):\n",
    "        return QUALITIES_DISPLAY_NAMES[self.value]\n",
    "\n",
    "EXTRAS_DISPLAY_NAMES = {0: '', 1: '7', 2: 'M', 3: '9', 4: '13'}\n",
    "class ChordExtra(Enum):\n",
    "    ExtraNone = 0\n",
    "    seventh = 1\n",
    "    major_seventh = 2\n",
    "    ninth = 3\n",
    "    thirteenth = 4\n",
    "\n",
    "    def to_chord_format(self):\n",
    "        return EXTRAS_DISPLAY_NAMES[self.value]\n",
    "\n",
    "ADD_DISPLAY_NAMES = {0: '', 1: 'add2', 2: 'add4', 3: 'add6'}\n",
    "class ChordAdd(Enum):\n",
    "    AddNone = 0\n",
    "    Add2 = 1\n",
    "    Add4 = 2\n",
    "    Add6 = 3\n",
    "    \n",
    "    def to_chord_format(self):\n",
    "        return ADD_DISPLAY_NAMES[self.value]\n",
    "\n",
    "@dataclass(frozen=True)\n",
    "class EncodedChord:\n",
    "    root: NoteIndex\n",
    "    relative_bass: NoteIndex\n",
    "    quality: ChordQuality\n",
    "    extra: ChordExtra\n",
    "    add: ChordAdd\n",
    "    def to_tuple(v):\n",
    "        return (v.root, v.relative_bass, v.quality.value, v.extra.value, v.add.value)\n",
    "    \n",
    "    def to_chord(v):\n",
    "        root = NoteIndex(v.root).to_chord_format()\n",
    "        if v.relative_bass:\n",
    "            bass_index = (v.root + v.relative_bass) % 12\n",
    "            bass = f'/{NoteIndex(bass_index).to_chord_format()}'\n",
    "        else:\n",
    "            bass = ''\n",
    "        quality = v.quality.to_chord_format()\n",
    "        extra = v.extra.to_chord_format()\n",
    "        add = v.add.to_chord_format()\n",
    "        result = f'{root}{quality}{extra}{add}{bass}'\n",
    "        return result\n",
    "\n",
    "class ChordEncoder(nn.Module):\n",
    "    def __init__(self):\n",
    "        super().__init__()\n",
    "        self.cp = chordparser.Parser()\n",
    "\n",
    "    def _encode_chord_add(self, chord: chordparser.Chord) -> ChordAdd:\n",
    "        if not chord.add:\n",
    "            return ChordAdd.AddNone\n",
    "        \n",
    "        adds = chord.add\n",
    "        if len(adds) > 1:\n",
    "            raise ValueError(f'Chord {chord.string} has more than 1 adds: {adds}')\n",
    "        \n",
    "        # Enum name is Add{value}\n",
    "        first_val = f'Add{adds[0][1]}'\n",
    "        result = ChordAdd[first_val]\n",
    "        return result\n",
    "    \n",
    "    def _encode_chord_quality(self, chord: chordparser.Chord) -> ChordQuality:\n",
    "        if not chord.quality.value:\n",
    "            raise ValueError(f'Chord {chord.string} has no quality.value: {chord.quality}')\n",
    "        \n",
    "        result = ChordQuality[chord.quality.value]\n",
    "        return result\n",
    "\n",
    "    def _encode_chord_extra(self, chord: chordparser.Chord) -> ChordExtra:\n",
    "        extra_name = chord.quality.ext\n",
    "        if not extra_name:\n",
    "            return ChordExtra.ExtraNone\n",
    "        \n",
    "        extra_key_name = extra_name.replace(' ', '_')\n",
    "        result = ChordExtra[extra_key_name]\n",
    "        return result\n",
    "\n",
    "    def forward(self, chord_raw: str) -> EncodedChord:\n",
    "        chord = self.cp.create_chord(chord_raw)\n",
    "        root_index = chord.root.num_value()\n",
    "        bass_index = root_index if chord.bass is None else chord.bass.num_value()\n",
    "        relative_bass = (bass_index - root_index) % 12\n",
    "        quality = self._encode_chord_quality(chord)\n",
    "        extra = self._encode_chord_extra(chord)\n",
    "        add = self._encode_chord_add(chord)\n",
    "\n",
    "        result = EncodedChord(root=root_index, relative_bass=relative_bass, quality=quality, extra=extra, add=add)\n",
    "        return result\n",
    "    \n",
    "    \n",
    "class ChordDecoder(nn.Module):\n",
    "    def __init__(self):\n",
    "        super().__init__()\n",
    "\n",
    "    def forward(self, encoded_chord: EncodedChord) -> str:\n",
    "        result = encoded_chord.to_chord()\n",
    "        return result\n",
    "    "
   ]
  },
  {
   "cell_type": "code",
   "execution_count": 115,
   "metadata": {},
   "outputs": [
    {
     "name": "stdout",
     "output_type": "stream",
     "text": [
      "(4, 10, 1, 1, 3)\n",
      "Em7add6/D\n"
     ]
    }
   ],
   "source": [
    "encoder = ChordEncoder()\n",
    "print(encoder('Em7add6/D').to_tuple())\n",
    "print(encoder('Em7add6/D').to_chord())"
   ]
  },
  {
   "cell_type": "code",
   "execution_count": 89,
   "metadata": {},
   "outputs": [
    {
     "ename": "AttributeError",
     "evalue": "'int' object has no attribute 'to_chord_format'",
     "output_type": "error",
     "traceback": [
      "\u001b[1;31m---------------------------------------------------------------------------\u001b[0m",
      "\u001b[1;31mAttributeError\u001b[0m                            Traceback (most recent call last)",
      "\u001b[1;32mc:\\Users\\AssafGadish\\OneDrive - mail.tau.ac.il\\NLP\\LyricsToChordsGenerator\\tokenizer.ipynb Cell 5\u001b[0m line \u001b[0;36m1\n\u001b[1;32m----> <a href='vscode-notebook-cell:/c%3A/Users/AssafGadish/OneDrive%20-%20mail.tau.ac.il/NLP/LyricsToChordsGenerator/tokenizer.ipynb#W6sZmlsZQ%3D%3D?line=0'>1</a>\u001b[0m \u001b[39mprint\u001b[39m(EncodedChord(\u001b[39m4\u001b[39;49m, \u001b[39m2\u001b[39;49m, \u001b[39m1\u001b[39;49m, \u001b[39m1\u001b[39;49m, \u001b[39m3\u001b[39;49m)\u001b[39m.\u001b[39;49mto_chord())\n",
      "\u001b[1;32mc:\\Users\\AssafGadish\\OneDrive - mail.tau.ac.il\\NLP\\LyricsToChordsGenerator\\tokenizer.ipynb Cell 5\u001b[0m line \u001b[0;36m6\n\u001b[0;32m     <a href='vscode-notebook-cell:/c%3A/Users/AssafGadish/OneDrive%20-%20mail.tau.ac.il/NLP/LyricsToChordsGenerator/tokenizer.ipynb#W6sZmlsZQ%3D%3D?line=65'>66</a>\u001b[0m \u001b[39melse\u001b[39;00m:\n\u001b[0;32m     <a href='vscode-notebook-cell:/c%3A/Users/AssafGadish/OneDrive%20-%20mail.tau.ac.il/NLP/LyricsToChordsGenerator/tokenizer.ipynb#W6sZmlsZQ%3D%3D?line=66'>67</a>\u001b[0m     bass \u001b[39m=\u001b[39m \u001b[39m'\u001b[39m\u001b[39m'\u001b[39m\n\u001b[1;32m---> <a href='vscode-notebook-cell:/c%3A/Users/AssafGadish/OneDrive%20-%20mail.tau.ac.il/NLP/LyricsToChordsGenerator/tokenizer.ipynb#W6sZmlsZQ%3D%3D?line=67'>68</a>\u001b[0m quality \u001b[39m=\u001b[39m v\u001b[39m.\u001b[39;49mquality\u001b[39m.\u001b[39;49mto_chord_format()\n\u001b[0;32m     <a href='vscode-notebook-cell:/c%3A/Users/AssafGadish/OneDrive%20-%20mail.tau.ac.il/NLP/LyricsToChordsGenerator/tokenizer.ipynb#W6sZmlsZQ%3D%3D?line=68'>69</a>\u001b[0m extra \u001b[39m=\u001b[39m v\u001b[39m.\u001b[39mextra\u001b[39m.\u001b[39mto_chord_format()\n\u001b[0;32m     <a href='vscode-notebook-cell:/c%3A/Users/AssafGadish/OneDrive%20-%20mail.tau.ac.il/NLP/LyricsToChordsGenerator/tokenizer.ipynb#W6sZmlsZQ%3D%3D?line=69'>70</a>\u001b[0m add \u001b[39m=\u001b[39m v\u001b[39m.\u001b[39mextra\u001b[39m.\u001b[39mto_chord_format()\n",
      "\u001b[1;31mAttributeError\u001b[0m: 'int' object has no attribute 'to_chord_format'"
     ]
    }
   ],
   "source": [
    "print(EncodedChord(4, 2, 1, 1, 3).to_chord())"
   ]
  },
  {
   "cell_type": "code",
   "execution_count": 69,
   "metadata": {},
   "outputs": [
    {
     "name": "stdout",
     "output_type": "stream",
     "text": [
      "0\n"
     ]
    },
    {
     "data": {
      "text/plain": [
       "''"
      ]
     },
     "execution_count": 69,
     "metadata": {},
     "output_type": "execute_result"
    }
   ],
   "source": [
    "ChordQuality(0).to_chord_format()"
   ]
  },
  {
   "cell_type": "code",
   "execution_count": null,
   "metadata": {},
   "outputs": [],
   "source": []
  }
 ],
 "metadata": {
  "kernelspec": {
   "display_name": "Python 3",
   "language": "python",
   "name": "python3"
  },
  "language_info": {
   "codemirror_mode": {
    "name": "ipython",
    "version": 3
   },
   "file_extension": ".py",
   "mimetype": "text/x-python",
   "name": "python",
   "nbconvert_exporter": "python",
   "pygments_lexer": "ipython3",
   "version": "3.10.11"
  }
 },
 "nbformat": 4,
 "nbformat_minor": 2
}
